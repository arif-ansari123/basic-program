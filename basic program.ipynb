{
 "cells": [
  {
   "cell_type": "markdown",
   "id": "1faa2120",
   "metadata": {},
   "source": [
    "# Basic Programs:"
   ]
  },
  {
   "cell_type": "markdown",
   "id": "9cda5715",
   "metadata": {},
   "source": [
    "Python program to add two numbers"
   ]
  },
  {
   "cell_type": "code",
   "execution_count": null,
   "id": "3e0230cf",
   "metadata": {},
   "outputs": [],
   "source": [
    "#input the first number\n",
    "a=int(input(\"enter a number\\n : \"))\n",
    "#input the second number\n",
    "b=int(input(\"enter a number\\n : \"))\n",
    "#adding two number\n",
    "c=a+b\n",
    "print(\"the addition of two number is : \",c)"
   ]
  },
  {
   "cell_type": "markdown",
   "id": "45e4286d",
   "metadata": {},
   "source": [
    "Maximum of two numbers in Python"
   ]
  },
  {
   "cell_type": "code",
   "execution_count": null,
   "id": "3d06b22b",
   "metadata": {},
   "outputs": [],
   "source": [
    "#input the first number\n",
    "a=int(input(\"enter a number\\n : \"))\n",
    "#input the second number\n",
    "b=int(input(\"enter a number\\n : \"))\n",
    "#applying condition using if else\n",
    "if(a>b):\n",
    "    print(a,\"is maximum\")\n",
    "else:\n",
    "     print(b,\"is maximum\")"
   ]
  },
  {
   "cell_type": "markdown",
   "id": "05cc7f1e",
   "metadata": {},
   "source": [
    "Python Program for factorial of a number"
   ]
  },
  {
   "cell_type": "code",
   "execution_count": null,
   "id": "88708ee9",
   "metadata": {},
   "outputs": [],
   "source": [
    "#taking input from the user\n",
    "n=int(input(\"emter a number : \"))\n",
    "#initialising fact =1\n",
    "fact=1\n",
    "#using while loop \n",
    "while(n>0):\n",
    "    fact=fact*n #applying logic for factorial\n",
    "    n-=1 #decrementing the value eg: if user put 5 than it goes from 5 to 1\n",
    "print(\"the factorial of a number is : \",fact)    "
   ]
  },
  {
   "cell_type": "markdown",
   "id": "4743bb26",
   "metadata": {},
   "source": [
    "Python Program for simple interest"
   ]
  },
  {
   "cell_type": "code",
   "execution_count": null,
   "id": "96ace167",
   "metadata": {},
   "outputs": [],
   "source": [
    "#simple interest formula : si=(ptr)/100\n",
    "#A=final amount\n",
    "#P=initial principal balance\n",
    "#r=annual interest rate\n",
    "#t=time (in years)\n",
    "#taking initial principle balance\n",
    "p=int(input(\"Enter your initial principal balance : \"))\n",
    "#taking annual interset rate\n",
    "r=int(input(\"Enter your annual interset rate : \"))\n",
    "#taking time in year\n",
    "t=int(input(\"Enter your time in year : \"))\n",
    "#simple interest formula\n",
    "si=(p*t*r)/100\n",
    "print(\"the simple interest is : \",si)"
   ]
  },
  {
   "cell_type": "markdown",
   "id": "0b85f14f",
   "metadata": {},
   "source": [
    "Python Program for compound interest"
   ]
  },
  {
   "cell_type": "code",
   "execution_count": null,
   "id": "505c738d",
   "metadata": {},
   "outputs": [],
   "source": [
    "#compound interest formula : A = P(1 + R/100) t \n",
    "#Compound Interest = A – P\n",
    "def compound_interest(principal,rate,time):\n",
    "    Amount=principal*(1+rate/100)**time\n",
    "    compound__interest = Amount-principal\n",
    "    print(\"compound interest is : \",compound__interest)\n",
    "    \n",
    "compound_interest(10000,10.25,5)    "
   ]
  },
  {
   "cell_type": "markdown",
   "id": "fc786709",
   "metadata": {},
   "source": [
    "Python Program to check Armstrong Number\n"
   ]
  },
  {
   "cell_type": "code",
   "execution_count": null,
   "id": "4b5ea131",
   "metadata": {},
   "outputs": [],
   "source": [
    "#taking input from the user\n",
    "n=int(input(\"Enter a number \"))\n",
    "#taking length of the string\n",
    "order=len(str(n))\n",
    "#initialising sum =0\n",
    "sum=0\n",
    "#copying the input bcz at while it get zero\n",
    "copy_original = n\n",
    "#Applying while loop\n",
    "while(n>0):\n",
    "#taking single digit from the end of the output    \n",
    "    digit=n%10\n",
    "#storing values in sum variable    \n",
    "    sum=sum+(digit**order)\n",
    "    n=n//10\n",
    "if(sum==copy_original):\n",
    "    print(\"it is armstrong number\")\n",
    "else:\n",
    "    print(\"it is not  armstrong numbe\")"
   ]
  },
  {
   "cell_type": "markdown",
   "id": "5b752919",
   "metadata": {},
   "source": [
    "Python Program for Program to find area of a circle"
   ]
  },
  {
   "cell_type": "code",
   "execution_count": null,
   "id": "202805e2",
   "metadata": {},
   "outputs": [],
   "source": [
    "# area of circle formula = pi*r*r\n",
    "# where r is a radius\n",
    "r=int(input(\"Enter a radius : \"))\n",
    "#pi value\n",
    "pi=3.14\n",
    "#Area of circle\n",
    "A=pi*r*r\n",
    "print(\"Area of circle : \",A)"
   ]
  }
 ],
 "metadata": {
  "kernelspec": {
   "display_name": "Python 3 (ipykernel)",
   "language": "python",
   "name": "python3"
  },
  "language_info": {
   "codemirror_mode": {
    "name": "ipython",
    "version": 3
   },
   "file_extension": ".py",
   "mimetype": "text/x-python",
   "name": "python",
   "nbconvert_exporter": "python",
   "pygments_lexer": "ipython3",
   "version": "3.10.9"
  }
 },
 "nbformat": 4,
 "nbformat_minor": 5
}

